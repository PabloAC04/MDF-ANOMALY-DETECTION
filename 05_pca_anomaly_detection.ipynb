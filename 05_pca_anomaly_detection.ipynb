{
 "cells": [
  {
   "cell_type": "markdown",
   "id": "d97dc355",
   "metadata": {},
   "source": [
    "# Capítulo 5 – Detección de Anomalías con Análisis de Componentes Principales (PCA)\n",
    "\n",
    "El **Análisis de Componentes Principales (PCA)** es un método estadístico ampliamente utilizado para la reducción de dimensionalidad.  \n",
    "Su propósito es transformar un conjunto de variables posiblemente correlacionadas en un nuevo conjunto de variables ortogonales denominadas *componentes principales*, que capturan la mayor parte de la varianza de los datos originales.\n",
    "\n",
    "En el contexto de la detección de anomalías, el fundamento es que los datos normales pueden representarse adecuadamente en un subespacio de baja dimensión, mientras que las observaciones anómalas tienden a presentar **errores de reconstrucción elevados** o a situarse en regiones de baja varianza explicada.\n",
    "\n",
    "## ¿Por qué PCA?\n",
    "\n",
    "Las razones principales para emplear PCA en la detección de anomalías son:\n",
    "\n",
    "- Permite **extraer la estructura subyacente** de los datos, reduciendo ruido y redundancia.\n",
    "- Identifica observaciones que **no se ajustan bien** al subespacio de máxima varianza.\n",
    "- Es un modelo **interpretativo**, ya que muestra qué variables contribuyen a cada componente principal.\n",
    "- Es aplicable tanto a **datos tabulares** como a **series temporales multivariantes**, una vez que se preprocesan en forma de ventanas.\n",
    "\n",
    "## Intuición\n",
    "\n",
    "El PCA busca un subespacio de menor dimensión que explique la mayor parte de la variabilidad de los datos.  \n",
    "La idea central puede expresarse así:\n",
    "\n",
    "> “Si un punto no puede reconstruirse bien a partir de los componentes principales, probablemente sea una anomalía.”\n",
    "\n",
    "En la práctica, los datos normales se alinean con las direcciones de mayor varianza, mientras que las anomalías quedan fuera de ese subespacio y presentan un **error de reconstrucción más alto**.\n",
    "\n",
    "## Fundamento Teórico\n",
    "\n",
    "Sea $X \\in \\mathbb{R}^{n \\times d}$ un conjunto de $n$ observaciones y $d$ variables:\n",
    "\n",
    "1. Se centra la matriz restando la media.\n",
    "2. Se calcula la matriz de covarianza:  \n",
    "   $$\n",
    "   \\Sigma = \\frac{1}{n} X^T X\n",
    "   $$\n",
    "3. Se obtienen los vectores propios (componentes) y valores propios (varianza explicada).\n",
    "4. Se proyectan los datos en los $k$ primeros componentes:  \n",
    "   $$\n",
    "   Z = X W_k\n",
    "   $$\n",
    "   donde $W_k$ contiene los $k$ vectores propios principales.\n",
    "5. Se reconstruyen los datos:  \n",
    "   $$\n",
    "   \\hat{X} = Z W_k^T\n",
    "   $$\n",
    "\n",
    "El **error de reconstrucción** para cada observación $x_i$ se define como:\n",
    "$$\n",
    "e_i = \\lVert x_i - \\hat{x}_i \\rVert^2\n",
    "$$\n",
    "\n",
    "## Interpretación del Score\n",
    "\n",
    "- **Error bajo** → El punto se ajusta al subespacio → normalidad.  \n",
    "- **Error alto** → El punto queda fuera del subespacio → posible anomalía.  \n",
    "\n",
    "Un umbral común se establece como:\n",
    "$$\n",
    "\\tau = \\mu_e + 3\\sigma_e\n",
    "$$\n",
    "donde $\\mu_e$ y $\\sigma_e$ corresponden a la media y desviación estándar de los errores de reconstrucción en los datos de entrenamiento.\n",
    "\n",
    "## Parámetros Clave\n",
    "\n",
    "- **n_components**: número de componentes principales a retener.  \n",
    "  - Demasiados → el error disminuye, pero se pierde capacidad de discriminación.  \n",
    "  - Muy pocos → se omite información relevante.  \n",
    "- **Threshold**: umbral para clasificar anomalías. Puede fijarse estadísticamente o mediante percentiles.\n",
    "\n",
    "### Ejemplo conceptual\n",
    "\n",
    "Consideremos un sistema con dos variables: **RPM** y **temperatura del refrigerante**.\n",
    "\n",
    "- En condiciones normales, los puntos se alinean en una dirección oblicua (a mayor RPM, mayor temperatura).  \n",
    "- El PCA proyecta los datos en esa dirección principal.  \n",
    "- Un punto con **temperatura muy baja para RPM altas** generará un error de reconstrucción elevado y se identificará como anomalía.\n"
   ]
  },
  {
   "cell_type": "markdown",
   "id": "464c0c89",
   "metadata": {},
   "source": [
    "## Implementación de un modelo para detección de anomalías en series temporales\n",
    "\n",
    "Para la implementación del modelo de este capítulo y los posteriores, se define primero una **interfaz base** de la que heredarán los distintos detectores de anomalías.  \n",
    "\n",
    "El motivo de este enfoque es que, cuando llegue el momento de realizar validaciones o ejecutar flujos completos de experimentos, podamos **automatizar el procedimiento** y evitar código duplicado.  \n",
    "\n",
    "Esta interfaz base contendrá los métodos esenciales que todo modelo de detección de anomalías debe implementar. A continuación se muestra su definición.\n"
   ]
  },
  {
   "cell_type": "code",
   "execution_count": 1,
   "id": "f4d6e4cd",
   "metadata": {},
   "outputs": [],
   "source": [
    "from abc import ABC, abstractmethod\n",
    "\n",
    "class BaseAnomalyDetector(ABC):\n",
    "    @abstractmethod\n",
    "    def fit(self, X):\n",
    "        pass\n",
    "\n",
    "    @abstractmethod\n",
    "    def predict(self, X):\n",
    "        pass\n",
    "\n",
    "    @abstractmethod\n",
    "    def anomaly_score(self, X):\n",
    "        pass\n",
    "\n",
    "    def preprocess(self, X, retrain=False):\n",
    "        return X\n"
   ]
  },
  {
   "cell_type": "code",
   "execution_count": 2,
   "id": "7d14c30f",
   "metadata": {},
   "outputs": [
    {
     "name": "stdout",
     "output_type": "stream",
     "text": [
      "✓ Interfaz mínima OK: fit/predict/anomaly_score existen.\n"
     ]
    }
   ],
   "source": [
    "# 🔎 Comprobación rápida del contrato de la interfaz\n",
    "class _FakeDetector(BaseAnomalyDetector):\n",
    "    def fit(self, X): pass\n",
    "    def predict(self, X): return cp.zeros(len(X), dtype=cp.int8).get()\n",
    "    def anomaly_score(self, X): return cp.zeros(len(X)).get()\n",
    "\n",
    "try:\n",
    "    _ = _FakeDetector()\n",
    "    print(\"✓ Interfaz mínima OK: fit/predict/anomaly_score existen.\")\n",
    "except Exception as e:\n",
    "    print(\"✗ Algo falla:\", e)\n"
   ]
  },
  {
   "cell_type": "markdown",
   "id": "84916d4a",
   "metadata": {},
   "source": [
    "Para decidir los métodos que contiene la clase base nos apoyamos en una definición **universal de modelo**, en la que se consideran los siguientes elementos:\n",
    "\n",
    "- **fit**: ajustar el modelo a los datos de entrenamiento.  \n",
    "- **predict**: realizar la predicción, es decir, decidir si una observación es normal o anómala.  \n",
    "- **anomaly_score**: obtener un valor continuo que cuantifique el grado de anomalía de cada instante de tiempo.  \n",
    "- **preprocess**: transformar los datos antes del entrenamiento o la predicción, en caso de que el modelo lo requiera (normalización, escalado, etc.).  \n"
   ]
  },
  {
   "cell_type": "markdown",
   "id": "acafa8bf",
   "metadata": {},
   "source": [
    "## Implementación de un detector con PCA en GPU\n",
    "\n",
    "Para implementar un modelo de detección de anomalías en series temporales con **PCA**, utilizamos la librería `cuml` de RAPIDS, que permite ejecutar este algoritmo de manera acelerada en GPU.  \n",
    "\n",
    "El flujo del modelo es el siguiente:\n",
    "\n",
    "1. **Preprocesamiento**: los datos se escalan con `cuml.preprocessing.StandardScaler`, para garantizar que todas las variables estén en la misma escala antes de aplicar PCA.  \n",
    "2. **Reducción de dimensionalidad**: se ajusta un `cuml.decomposition.PCA`, que proyecta las observaciones en un subespacio de menor dimensión.  \n",
    "3. **Reconstrucción**: se calculan las observaciones reconstruidas a partir de los componentes principales.  \n",
    "4. **Error de reconstrucción**: la diferencia cuadrática media entre el original y la reconstrucción se usa como *anomaly score*.  \n",
    "5. **Clasificación**: se establece un umbral, obtenido como un percentil de los errores de reconstrucción, para decidir si una observación es normal o anómala.\n",
    "\n",
    "De este modo, el modelo `PCAAnomalyDetector` sigue la interfaz definida en `BaseAnomalyDetector` e implementa los métodos `fit`, `predict`, `anomaly_score` y `preprocess`, pero ejecutándose completamente en GPU.  \n"
   ]
  },
  {
   "cell_type": "markdown",
   "id": "83d75ee5",
   "metadata": {},
   "source": [
    "### Clase PCAAnomalyDetector en GPU\n",
    "\n",
    "A continuación se define la clase `PCAAnomalyDetector`, que hereda de la interfaz base `BaseAnomalyDetector`.  \n",
    "Esta implementación aprovecha la librería **RAPIDS cuML** para ejecutar PCA y escalado en GPU, lo que permite manejar datasets de gran tamaño de manera eficiente.\n"
   ]
  },
  {
   "cell_type": "code",
   "execution_count": 3,
   "id": "6c7d76bc",
   "metadata": {},
   "outputs": [],
   "source": [
    "import cupy as cp\n",
    "from cuml.decomposition import PCA\n",
    "from cuml.preprocessing import StandardScaler\n",
    "\n",
    "class PCAAnomalyDetector(BaseAnomalyDetector):\n",
    "    def __init__(self, n_components=None, threshold=None):\n",
    "        \"\"\"\n",
    "        n_components: número de componentes principales a retener.\n",
    "                      Si None, se usa el criterio de máxima varianza explicada.\n",
    "        threshold: percentil (ej. 0.95 => 95% de los errores por debajo).\n",
    "        \"\"\"\n",
    "        self.n_components = int(n_components) if n_components is not None else None\n",
    "        self.threshold = threshold\n",
    "        self.pca = None\n",
    "        self.scaler = StandardScaler(with_mean=True, with_std=True)\n",
    "        self._threshold_value = None\n",
    "\n",
    "    # Definición dummy de métodos para que permita instanciar\n",
    "    def fit(self, X):\n",
    "        return self\n",
    "\n",
    "    def preprocess(self, X, retrain=False):\n",
    "        return X\n",
    "    \n",
    "    def anomaly_score(self, X):\n",
    "        return X\n",
    "    \n",
    "    def predict(self, X):\n",
    "        return cp.zeros(len(X), dtype=cp.int8).get()"
   ]
  },
  {
   "cell_type": "markdown",
   "id": "161980a3",
   "metadata": {},
   "source": [
    "#### Método privado `_reconstruction_error`\n",
    "\n",
    "Esta función auxiliar calcula el error cuadrático medio entre la muestra original y su reconstrucción a partir de los componentes principales.  \n",
    "Es la base para obtener tanto las etiquetas como los scores de anomalía.\n"
   ]
  },
  {
   "cell_type": "code",
   "execution_count": 4,
   "id": "ddc1b635",
   "metadata": {},
   "outputs": [],
   "source": [
    "def _reconstruction_error(self, X_proc):\n",
    "    X_projected = self.pca.inverse_transform(self.pca.transform(X_proc))\n",
    "    errors = cp.mean((X_proc - X_projected) ** 2, axis=1)\n",
    "    return errors.values\n",
    "\n",
    "setattr(PCAAnomalyDetector, \"_reconstruction_error\", _reconstruction_error)"
   ]
  },
  {
   "cell_type": "markdown",
   "id": "ff179daa",
   "metadata": {},
   "source": [
    "#### Método `preprocess`\n",
    "\n",
    "En este caso, la idea es permitir un escalado de variables mediante `StandardScaler`.\n"
   ]
  },
  {
   "cell_type": "code",
   "execution_count": 5,
   "id": "0c504e69",
   "metadata": {},
   "outputs": [],
   "source": [
    "def preprocess(self, X, retrain=True):\n",
    "    \"\"\"\n",
    "    Convierte X a float32 y aplica escalado en GPU.\n",
    "    \"\"\"\n",
    "    X = X.astype(\"float32\")\n",
    "    if retrain:\n",
    "        X_scaled = self.scaler.fit_transform(X)\n",
    "    else:\n",
    "        X_scaled = self.scaler.transform(X)\n",
    "    return X_scaled\n",
    "\n",
    "setattr(PCAAnomalyDetector, \"preprocess\", preprocess)"
   ]
  },
  {
   "cell_type": "markdown",
   "id": "8de8f847",
   "metadata": {},
   "source": [
    "#### Método `fit`\n",
    "\n",
    "El método `fit` ajusta el modelo PCA a los datos de entrenamiento.  \n",
    "Posteriormente, se calcula el **error de reconstrucción** para cada observación y se determina un umbral en función del número de desviaciones típicas de la distribución de errores.\n",
    "El parámetro `threshold` indica cuántas desviaciones por encima de la media se consideran anómalas.\n",
    "Si no se especifica, se emplea un valor por defecto de $3σ$, equivalente a un percentil alto (aprox. 0.997 bajo normalidad).\n"
   ]
  },
  {
   "cell_type": "code",
   "execution_count": 6,
   "id": "b69b0f19",
   "metadata": {},
   "outputs": [],
   "source": [
    "def fit(self, X):\n",
    "    \"\"\"\n",
    "    Ajusta el modelo PCA en GPU y calcula el threshold.\n",
    "    \"\"\"\n",
    "    self.pca = PCA(n_components=self.n_components, svd_solver=\"full\")\n",
    "    self.pca.fit(X)\n",
    "\n",
    "    errors = self._reconstruction_error(X)\n",
    "\n",
    "    mu, sigma = cp.mean(errors), cp.std(errors)  # en GPU\n",
    "    n_sigma = self.threshold if self.threshold is not None else 3.0 # default 3 sigma\n",
    "    self._threshold_value = (mu + n_sigma * sigma).item()\n",
    "\n",
    "setattr(PCAAnomalyDetector, \"fit\", fit)"
   ]
  },
  {
   "cell_type": "code",
   "execution_count": 7,
   "id": "fd7134bf",
   "metadata": {},
   "outputs": [
    {
     "name": "stdout",
     "output_type": "stream",
     "text": [
      "[2025-10-03 00:50:49.516] [CUML] [warning] Warning(`fit`): As of v0.16, PCA invoked without an n_components argument defaults to using min(n_samples, n_features) rather than 1\n"
     ]
    },
    {
     "data": {
      "image/png": "[encoded data removed]",
      "text/plain": [
       "<Figure size 600x400 with 1 Axes>"
      ]
     },
     "metadata": {},
     "output_type": "display_data"
    }
   ],
   "source": [
    "import cudf\n",
    "\n",
    "# Cargar dataset BATADAL\n",
    "gdf = cudf.read_parquet(\"modelos/data/BATADAL/data.parquet\")\n",
    "\n",
    "# Quitar label si existe\n",
    "if \"label\" in gdf.columns:\n",
    "    gdf = gdf.drop(columns=[\"label\"])\n",
    "\n",
    "# Seleccionar SOLO las columnas numéricas\n",
    "num_cols = [c for c in gdf.columns if gdf[c].dtype.kind in (\"i\", \"f\")]\n",
    "X = gdf[num_cols].astype(\"float32\")\n",
    "\n",
    "# Split train/test temporal simple\n",
    "n = len(X)\n",
    "cut = int(0.7 * n)\n",
    "X_train, X_test = X.iloc[:cut], X.iloc[cut:]\n",
    "\n",
    "# Entrenar PCAAnomalyDetector\n",
    "det = PCAAnomalyDetector(n_components=None, threshold=0.997)\n",
    "X_train_scaled = det.preprocess(X_train, retrain=True)\n",
    "det.fit(X_train_scaled)\n",
    "\n",
    "# Varianza explicada\n",
    "expl_var = det.pca.explained_variance_ratio_\n",
    "if hasattr(expl_var, \"to_numpy\"):\n",
    "    expl_var = expl_var.to_numpy()\n",
    "elif hasattr(expl_var, \"get\"):\n",
    "    expl_var = expl_var.get()\n",
    "\n",
    "# Gráfico de codo\n",
    "import matplotlib.pyplot as plt\n",
    "plt.figure(figsize=(6,4))\n",
    "plt.plot(range(1, len(expl_var)+1), expl_var, marker=\"o\")\n",
    "plt.xlabel(\"Componente principal\")\n",
    "plt.ylabel(\"Varianza explicada\")\n",
    "plt.title(\"Varianza explicada por componente (BATADAL)\")\n",
    "plt.grid(True)\n",
    "plt.show()\n"
   ]
  },
  {
   "cell_type": "markdown",
   "id": "6cb1ba99",
   "metadata": {},
   "source": [
    "### Interpretación de la curva de varianza explicada (BATADAL)\n",
    "\n",
    "En este caso, la curva de **varianza explicada por componente** muestra que los **primeros componentes principales concentran gran parte de la información** del sistema:\n",
    "\n",
    "- **Eje X** → número de componente principal.  \n",
    "- **Eje Y** → porcentaje de varianza total que explica ese componente.  \n",
    "\n",
    "La pendiente inicial elevada indica que las variables de BATADAL están **fuertemente correlacionadas** (ejemplo: caudales, presiones, temperaturas).  \n",
    "Por tanto, unos pocos componentes bastan para capturar la mayor parte de la variabilidad del proceso.\n",
    "\n",
    "La segunda curva, de **varianza acumulada**, permite responder a la pregunta:\n",
    "\n",
    "> *“¿Con cuántos componentes conservo al menos el 95% de la información?”*\n",
    "\n",
    "En la práctica, este análisis se usa para:\n",
    "- **Reducir dimensionalidad** sin perder demasiada información.  \n",
    "- Evitar sobreajuste al ruido manteniendo solo los componentes relevantes.  \n",
    "- En el contexto de anomalías, **asegurarnos de que la reconstrucción con PCA capture el comportamiento normal**, de modo que los errores altos correspondan efectivamente a comportamientos anómalos.\n"
   ]
  },
  {
   "cell_type": "code",
   "execution_count": 8,
   "id": "63c8c14e",
   "metadata": {},
   "outputs": [],
   "source": [
    "import numpy as np\n",
    "\n",
    "# 1) Varianza acumulada mínima\n",
    "def select_by_variance_ratio(expl_var, threshold=0.95):\n",
    "    \"\"\"\n",
    "    Devuelve el número mínimo de componentes necesarios para\n",
    "    superar un porcentaje de varianza acumulada.\n",
    "    \"\"\"\n",
    "    cum_var = np.cumsum(expl_var)\n",
    "    return np.argmax(cum_var >= threshold) + 1\n",
    "\n",
    "# 2) Kaiser rule (autovalores > 1)\n",
    "def select_by_kaiser(eigenvalues):\n",
    "    \"\"\"\n",
    "    Devuelve el número de componentes con autovalores > 1.\n",
    "    Asume que los datos se han estandarizado previamente.\n",
    "    \"\"\"\n",
    "    return np.sum(eigenvalues > 1)\n",
    "\n",
    "# 3) Broken Stick Model\n",
    "def select_by_broken_stick(expl_var):\n",
    "    \"\"\"\n",
    "    Devuelve el número de componentes que superan\n",
    "    el modelo de 'palito roto'.\n",
    "    \"\"\"\n",
    "    n = len(expl_var)\n",
    "    broken_stick = np.array([np.sum(1.0/np.arange(k, n+1)) / n for k in range(1, n+1)])\n",
    "    return np.sum(expl_var > broken_stick)\n",
    "\n",
    "# 4) Criterio de codo (elbow method)\n",
    "def select_by_elbow(expl_var):\n",
    "    \"\"\"\n",
    "    Devuelve el índice del codo usando el criterio geométrico:\n",
    "    busca el punto más alejado de la línea entre el primero y el último.\n",
    "    \"\"\"\n",
    "    n = len(expl_var)\n",
    "    cum_var = np.cumsum(expl_var)\n",
    "    # Coordenadas de los puntos\n",
    "    points = np.column_stack((np.arange(1, n+1), cum_var))\n",
    "    start, end = points[0], points[-1]\n",
    "    line_vec = end - start\n",
    "    line_vec_norm = line_vec / np.linalg.norm(line_vec)\n",
    "    # Distancia perpendicular de cada punto a la recta\n",
    "    distances = np.abs(np.cross(points - start, line_vec_norm))\n",
    "    return np.argmax(distances) + 1\n"
   ]
  },
  {
   "cell_type": "code",
   "execution_count": 9,
   "id": "c3ada24a",
   "metadata": {},
   "outputs": [
    {
     "name": "stdout",
     "output_type": "stream",
     "text": [
      "Varianza ≥95%: 12\n",
      "Kaiser rule: 10\n",
      "Broken Stick: 9\n",
      "Elbow method: 13\n"
     ]
    }
   ],
   "source": [
    "# Varianza explicada (como numpy array)\n",
    "expl_var = det.pca.explained_variance_ratio_.to_numpy()\n",
    "# Autovalores (eigenvalues) del PCA\n",
    "eigenvalues = det.pca.explained_variance_.to_numpy()\n",
    "\n",
    "print(\"Varianza ≥95%:\", select_by_variance_ratio(expl_var, threshold=0.95))\n",
    "print(\"Kaiser rule:\", select_by_kaiser(eigenvalues))\n",
    "print(\"Broken Stick:\", select_by_broken_stick(expl_var))\n",
    "print(\"Elbow method:\", select_by_elbow(expl_var))\n"
   ]
  },
  {
   "cell_type": "markdown",
   "id": "b843bb43",
   "metadata": {},
   "source": [
    "### Selección automática de candidatos para *n_components*\n",
    "\n",
    "Las cuatro funciones definidas anteriormente representan **criterios clásicos** para decidir el número óptimo de componentes principales en PCA:\n",
    "\n",
    "1. **Varianza acumulada mínima** → selecciona el menor número de componentes que explica al menos un porcentaje prefijado de la varianza (ej. 95%).  \n",
    "2. **Kaiser rule** → conserva solo los componentes con autovalores mayores que 1.  \n",
    "3. **Broken Stick Model** → compara la varianza explicada con una distribución teórica aleatoria y descarta los que no la superan.  \n",
    "4. **Criterio de codo (Elbow method)** → identifica el punto donde la curva de varianza acumulada comienza a aplanarse.  \n",
    "\n",
    "Con estos métodos obtenemos un conjunto reducido de valores **candidatos a `n_components`**, que usaremos en los **experimentos de validación**.  \n",
    "En lugar de probar todos los posibles valores (costoso y redundante), nos centraremos únicamente en aquellos que tienen una justificación estadística, optimizando así la búsqueda.\n"
   ]
  },
  {
   "cell_type": "markdown",
   "id": "cf4f8ae2",
   "metadata": {},
   "source": [
    "#### Métodos `predict` y `anomaly_score`\n",
    "\n",
    "- `predict`: clasifica cada observación como **normal (0)** o **anómala (1)**, comparando su error de reconstrucción con el umbral.  \n",
    "- `anomaly_score`: devuelve directamente el valor continuo del error de reconstrucción, útil para métricas como ROC AUC o curvas de precisión-recall.\n"
   ]
  },
  {
   "cell_type": "code",
   "execution_count": 10,
   "id": "e4bb383c",
   "metadata": {},
   "outputs": [],
   "source": [
    "def predict(self, X):\n",
    "    errors = self._reconstruction_error(X)\n",
    "    return cp.where(errors > self._threshold_value, 1, 0).get()\n",
    "\n",
    "def anomaly_score(self, X):\n",
    "    return self._reconstruction_error(X).get()\n",
    "\n",
    "setattr(PCAAnomalyDetector, \"predict\", predict)\n",
    "setattr(PCAAnomalyDetector, \"anomaly_score\", anomaly_score)"
   ]
  },
  {
   "cell_type": "code",
   "execution_count": null,
   "id": "55b3d8be",
   "metadata": {},
   "outputs": [
    {
     "data": {
      "application/vnd.jupyter.widget-view+json": {
       "model_id": "ff6f4c5a6bbd4608a3cd150dd4cce4af",
       "version_major": 2,
       "version_minor": 0
      },
      "text/plain": [
       "interactive(children=(IntSlider(value=5, description='n_components', max=30, min=1), FloatSlider(value=3.0, de…"
      ]
     },
     "metadata": {},
     "output_type": "display_data"
    }
   ],
   "source": [
    "import ipywidgets as widgets\n",
    "from ipywidgets import interact\n",
    "import matplotlib.pyplot as plt\n",
    "\n",
    "@interact(\n",
    "    n_components=widgets.IntSlider(value=5, min=1, max=30, step=1, description=\"n_components\"),\n",
    "    threshold=widgets.FloatSlider(\n",
    "        value=3, min=1, max=200, step=0.1,  \n",
    "        description=\"threshold\"\n",
    "    )\n",
    ")\n",
    "def explore_pca(n_components, threshold):\n",
    "    # Reentrenamos PCA con los parámetros seleccionados\n",
    "    det = PCAAnomalyDetector(n_components=n_components, threshold=threshold)\n",
    "    X_train_scaled = det.preprocess(X_train, retrain=True)\n",
    "    det.fit(X_train_scaled)\n",
    "    X_test_scaled = det.preprocess(X_test, retrain=False)\n",
    "    scores_test = det.anomaly_score(X_test_scaled)\n",
    "    thr_val = det._threshold_value\n",
    "\n",
    "    # Histograma de errores\n",
    "    plt.figure(figsize=(7,4))\n",
    "    plt.hist(scores_test, bins=50, color=\"skyblue\", edgecolor=\"black\")\n",
    "    plt.axvline(thr_val, color=\"red\", linestyle=\"--\", linewidth=2, label=f\"Umbral = {thr_val:.6f}\")\n",
    "    plt.xlabel(\"Error de reconstrucción (MSE)\")\n",
    "    plt.ylabel(\"Frecuencia\")\n",
    "    plt.title(f\"Distribución de anomaly scores\\n(n_components={n_components}, threshold={threshold:.6f})\")\n",
    "    plt.legend()\n",
    "    plt.grid(True, alpha=0.3)\n",
    "    plt.ylim(0, 150)   # límite del eje Y para ver bien la cola\n",
    "    plt.show()\n"
   ]
  },
  {
   "cell_type": "markdown",
   "id": "03fec1d0",
   "metadata": {},
   "source": [
    "Aunque la lógica del PCA es relativamente simple, la implementación en GPU permite \n",
    "escalar el modelo a millones de observaciones con un tiempo de cómputo muy reducido.  \n",
    "Esto convierte a `PCAAnomalyDetector` en un **baseline robusto y eficiente** \n",
    "para tareas de detección de anomalías en series temporales multivariantes.\n"
   ]
  },
  {
   "cell_type": "markdown",
   "id": "3b0fca5c",
   "metadata": {},
   "source": [
    "### Exploración interactiva (PCA)\n",
    "\n",
    "- **`n_components`**: controla cuántos componentes se usan en la reconstrucción.  \n",
    "  - Pocos → más error, más anomalías.  \n",
    "  - Muchos → menos error, menos anomalías.  \n",
    "\n",
    "- **`threshold`**: fija el corte del error de reconstrucción.  \n",
    "  - Bajo → más detecciones (pero más falsos positivos).  \n",
    "  - Alto → menos detecciones (riesgo de falsos negativos).  \n",
    "\n",
    "**Gráfica**  \n",
    "- El histograma muestra los errores de reconstrucción en test.  \n",
    "- La **línea roja** es el umbral: todo lo que queda a la derecha se marca como **anómalo**.  \n"
   ]
  },
  {
   "cell_type": "markdown",
   "id": "34c70460",
   "metadata": {},
   "source": [
    "## Conclusión  \n",
    "\n",
    "El uso de **PCA para la detección de anomalías** constituye una aproximación sólida y eficiente, capaz de capturar la estructura dominante de los datos y detectar desviaciones significativas mediante el error de reconstrucción.  \n",
    "Su simplicidad, rapidez e interpretabilidad lo convierten en un **baseline de referencia** frente al cual compararemos métodos más avanzados.  \n",
    "\n",
    "No obstante, sus limitaciones inherentes —especialmente la **linealidad** y la **dependencia de la escala**— hacen necesario explorar técnicas más flexibles que puedan manejar relaciones no lineales y estructuras más complejas.  \n",
    "\n",
    "En el **siguiente capítulo** se introduce el algoritmo **Isolation Forest**, un método basado en árboles de partición aleatoria que, a diferencia de PCA, no asume linealidad y ofrece un enfoque distinto para la identificación de anomalías en series temporales multivariantes.  \n"
   ]
  },
  {
   "cell_type": "markdown",
   "id": "084df474",
   "metadata": {},
   "source": [
    "---\n",
    "\n",
    "## Referencias\n",
    "\n",
    "- Jolliffe, Ian T., and Jorge Cadima.  \n",
    "**\"Principal component analysis: a review and recent developments.\"** *Philosophical Transactions of the Royal Society A* 374.2065 (2016): 20150202.\n",
    "\n",
    "- Shyu, Mei-Ling, et al.  \n",
    "**\"A novel anomaly detection scheme based on principal component classifier.\"** *Proceedings of the IEEE Foundations and New Directions of Data Mining Workshop*. 20"
   ]
  }
 ],
 "metadata": {
  "kernelspec": {
   "display_name": "anomaly-detection",
   "language": "python",
   "name": "python3"
  },
  "language_info": {
   "codemirror_mode": {
    "name": "ipython",
    "version": 3
   },
   "file_extension": ".py",
   "mimetype": "text/x-python",
   "name": "python",
   "nbconvert_exporter": "python",
   "pygments_lexer": "ipython3",
   "version": "3.11.13"
  }
 },
 "nbformat": 4,
 "nbformat_minor": 5
}
