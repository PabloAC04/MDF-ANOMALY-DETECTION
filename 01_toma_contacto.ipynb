{
 "cells": [
  {
   "cell_type": "markdown",
   "id": "af5f940f",
   "metadata": {},
   "source": [
    "# 🚘 Detección de Anomalías en archivos MDF\n",
    "\n",
    "Antes de entrar en la parte técnica del proyecto, es importante contextualizar el propósito y el origen de los datos utilizados.\n",
    "\n",
    "El objetivo general consiste en aplicar **técnicas de detección de anomalías no supervisadas** sobre datos extraídos de archivos **MDF (Measurement Data Format)**, sin contar con etiquetas fiables ni retroalimentación de expertos o responsables del sistema de origen. Por tanto, todo el trabajo se basa en una definición genérica y fundamental de anomalía:\n",
    "\n",
    "> **Una anomalía es una situación que se desvía significativamente del comportamiento esperado.**\n",
    "\n",
    "Los archivos MDF utilizados provienen del **rodaje de un vehículo prototipo que aún no ha salido al mercado**. Hasta ahora, los expertos del dominio han trabajado con este tipo de datos de forma parcial, apoyándose en reglas conocidas de antemano: por ejemplo, si tras un impacto no se activa el airbag ni los intermitentes, se considera una anomalía evidente. Sin embargo, este enfoque se limita a **situaciones esperadas o visibles**, dejando fuera una gran variedad de comportamientos inesperados que podrían ser igual o más críticos, pero difíciles de anticipar.\n",
    "\n",
    "Aquí es donde se enmarca este proyecto: como una **fase inicial exploratoria**, en la que se pretende evaluar el potencial real de aplicar algoritmos no supervisados a este tipo de señales, sin asumir conocimiento previo de los eventos. \n",
    "\n",
    "---\n",
    "\n",
    "## 💡 Consideraciones sobre el enfoque\n",
    "\n",
    "Este trabajo forma parte de un proyecto más amplio, pero debe entenderse dentro de **un contexto de recursos limitados y sin un presupuesto formal asignado** por el momento. Por tanto, el objetivo actual no es construir una solución definitiva ni exhaustiva, sino **validar una idea base y demostrar su valor potencial con el menor esfuerzo razonable**.\n",
    "\n",
    "En resumen, esta etapa inicial busca sentar unas bases sólidas, plantear una metodología sensata y generar resultados claros que, si resultan prometedores, puedan justificar una siguiente fase con más profundidad, colaboración directa con expertos y un marco de trabajo profesional.\n",
    "\n",
    "---\n",
    "\n",
    "## 📚 En este primer capítulo\n",
    "\n",
    "En este capítulo se presentarán los **fundamentos teóricos básicos** que permitirán entender qué se considera una anomalía desde un punto de vista estadístico y computacional. También se incluirán **representaciones gráficas sencillas** que ilustran cómo pueden detectarse estas desviaciones en el espacio de características.\n",
    "\n",
    "Todo ello servirá como punto de partida para las siguientes etapas del trabajo, en las que se aplicarán y evaluarán distintas estrategias de detección sobre señales reales extraídas de archivos MDF.\n"
   ]
  }
 ],
 "metadata": {
  "kernelspec": {
   "display_name": ".venv",
   "language": "python",
   "name": "python3"
  },
  "language_info": {
   "codemirror_mode": {
    "name": "ipython",
    "version": 3
   },
   "file_extension": ".py",
   "mimetype": "text/x-python",
   "name": "python",
   "nbconvert_exporter": "python",
   "pygments_lexer": "ipython3",
   "version": "3.11.9"
  }
 },
 "nbformat": 4,
 "nbformat_minor": 5
}
